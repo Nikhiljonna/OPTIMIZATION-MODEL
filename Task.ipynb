{
  "cells": [
    {
      "cell_type": "markdown",
      "id": "167619ed",
      "metadata": {
        "id": "167619ed"
      },
      "source": [
        "## 🚛 Business Problem\n",
        "A logistics company has two warehouses (W1, W2) and three customers (C1, C2, C3). Each warehouse has a certain supply, and each customer has a demand. The company wants to minimize transportation cost while meeting all demands and not exceeding supplies."
      ]
    },
    {
      "cell_type": "code",
      "source": [
        "!pip install pulp\n",
        "import pulp\n",
        "import pandas as pd"
      ],
      "metadata": {
        "colab": {
          "base_uri": "https://localhost:8080/"
        },
        "id": "WiM8gWAIMTn8",
        "outputId": "a50f80d6-973f-44ef-dc7e-5d1fb8467e79"
      },
      "id": "WiM8gWAIMTn8",
      "execution_count": null,
      "outputs": [
        {
          "output_type": "stream",
          "name": "stdout",
          "text": [
            "Collecting pulp\n",
            "  Downloading pulp-3.2.1-py3-none-any.whl.metadata (6.9 kB)\n",
            "Downloading pulp-3.2.1-py3-none-any.whl (16.4 MB)\n",
            "\u001b[2K   \u001b[90m━━━━━━━━━━━━━━━━━━━━━━━━━━━━━━━━━━━━━━━━\u001b[0m \u001b[32m16.4/16.4 MB\u001b[0m \u001b[31m88.8 MB/s\u001b[0m eta \u001b[36m0:00:00\u001b[0m\n",
            "\u001b[?25hInstalling collected packages: pulp\n",
            "Successfully installed pulp-3.2.1\n"
          ]
        }
      ]
    },
    {
      "cell_type": "code",
      "execution_count": null,
      "id": "6d0c7ee2",
      "metadata": {
        "id": "6d0c7ee2"
      },
      "outputs": [],
      "source": [
        "import pulp\n",
        "import pandas as pd"
      ]
    },
    {
      "cell_type": "code",
      "execution_count": null,
      "id": "3de0859d",
      "metadata": {
        "id": "3de0859d"
      },
      "outputs": [],
      "source": [
        "warehouses = ['W1', 'W2']\n",
        "customers = ['C1', 'C2', 'C3']\n",
        "\n",
        "supply = {\n",
        "    'W1': 100,\n",
        "    'W2': 150\n",
        "}\n",
        "\n",
        "demand = {\n",
        "    'C1': 80,\n",
        "    'C2': 70,\n",
        "    'C3': 100\n",
        "}\n",
        "\n",
        "# Cost matrix: cost[warehouse][customer]\n",
        "cost = {\n",
        "    'W1': {'C1': 2, 'C2': 4, 'C3': 5},\n",
        "    'W2': {'C1': 3, 'C2': 1, 'C3': 7}\n",
        "}"
      ]
    },
    {
      "cell_type": "code",
      "execution_count": null,
      "id": "d30cb647",
      "metadata": {
        "id": "d30cb647"
      },
      "outputs": [],
      "source": [
        "prob = pulp.LpProblem(\"Transportation_Problem\", pulp.LpMinimize)"
      ]
    },
    {
      "cell_type": "code",
      "execution_count": null,
      "id": "04963fba",
      "metadata": {
        "id": "04963fba"
      },
      "outputs": [],
      "source": [
        "x = pulp.LpVariable.dicts(\"Route\", (warehouses, customers), lowBound=0, cat='Continuous')"
      ]
    },
    {
      "cell_type": "code",
      "execution_count": null,
      "id": "94f67d17",
      "metadata": {
        "id": "94f67d17"
      },
      "outputs": [],
      "source": [
        "# Minimize Total Transportation Cost\n",
        "prob += pulp.lpSum([x[w][c] * cost[w][c] for w in warehouses for c in customers])"
      ]
    },
    {
      "cell_type": "code",
      "execution_count": null,
      "id": "2becff15",
      "metadata": {
        "id": "2becff15"
      },
      "outputs": [],
      "source": [
        "for w in warehouses:\n",
        "    prob += pulp.lpSum([x[w][c] for c in customers]) <= supply[w], f\"Supply_{w}\""
      ]
    },
    {
      "cell_type": "code",
      "execution_count": null,
      "id": "1a2a2490",
      "metadata": {
        "id": "1a2a2490"
      },
      "outputs": [],
      "source": [
        "for c in customers:\n",
        "    prob += pulp.lpSum([x[w][c] for w in warehouses]) >= demand[c], f\"Demand_{c}\""
      ]
    },
    {
      "cell_type": "code",
      "execution_count": null,
      "id": "47f69974",
      "metadata": {
        "colab": {
          "base_uri": "https://localhost:8080/"
        },
        "id": "47f69974",
        "outputId": "c0597cd9-f582-48e1-9428-9ad254acf37d"
      },
      "outputs": [
        {
          "output_type": "execute_result",
          "data": {
            "text/plain": [
              "1"
            ]
          },
          "metadata": {},
          "execution_count": 10
        }
      ],
      "source": [
        "prob.solve()"
      ]
    },
    {
      "cell_type": "code",
      "execution_count": null,
      "id": "c09d339d",
      "metadata": {
        "colab": {
          "base_uri": "https://localhost:8080/"
        },
        "id": "c09d339d",
        "outputId": "e47d711d-5f29-45bc-968a-580016ae22cf"
      },
      "outputs": [
        {
          "output_type": "stream",
          "name": "stdout",
          "text": [
            "Status: Optimal\n",
            "\n",
            "Optimal Routes and Quantities:\n",
            "W1 -> C1: 0.0 units\n",
            "W1 -> C2: 0.0 units\n",
            "W1 -> C3: 100.0 units\n",
            "W2 -> C1: 80.0 units\n",
            "W2 -> C2: 70.0 units\n",
            "W2 -> C3: 0.0 units\n",
            "\n",
            "Total Minimum Transportation Cost: ₹810.0\n"
          ]
        }
      ],
      "source": [
        "print(\"Status:\", pulp.LpStatus[prob.status])\n",
        "print(\"\\nOptimal Routes and Quantities:\")\n",
        "for w in warehouses:\n",
        "    for c in customers:\n",
        "        print(f\"{w} -> {c}: {x[w][c].varValue} units\")\n",
        "\n",
        "print(f\"\\nTotal Minimum Transportation Cost: ₹{pulp.value(prob.objective)}\")"
      ]
    },
    {
      "cell_type": "markdown",
      "id": "4cd188c1",
      "metadata": {
        "id": "4cd188c1"
      },
      "source": [
        "## 📘 Insights:\n",
        "- W2 fully serves C1 and part of C2.\n",
        "- W1 handles the rest, including full delivery to C3.\n",
        "- Minimum total cost = ₹810.0"
      ]
    },
    {
      "cell_type": "code",
      "source": [],
      "metadata": {
        "id": "HagCzZtAMcMy"
      },
      "id": "HagCzZtAMcMy",
      "execution_count": null,
      "outputs": []
    }
  ],
  "metadata": {
    "colab": {
      "provenance": []
    },
    "language_info": {
      "name": "python"
    },
    "kernelspec": {
      "name": "python3",
      "display_name": "Python 3"
    }
  },
  "nbformat": 4,
  "nbformat_minor": 5
}